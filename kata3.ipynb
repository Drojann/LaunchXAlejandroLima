{
 "cells": [
  {
   "cell_type": "code",
   "execution_count": 1,
   "id": "8f4b41a4",
   "metadata": {},
   "outputs": [
    {
     "name": "stdout",
     "output_type": "stream",
     "text": [
      "¡Alerta! ¡Un asteroide se acerca a una velocidad peligrosa!\n"
     ]
    }
   ],
   "source": [
    "# Añadir el código necesario para crear una variable que guarde la velocidad del asteroide.\n",
    "\n",
    "asteroide = 50\n",
    "if asteroide > 25:\n",
    "    print('¡Alerta! ¡Un asteroide se acerca a una velocidad peligrosa!')\n",
    "else:\n",
    "    print('¡Sigue con tu día!')"
   ]
  },
  {
   "cell_type": "code",
   "execution_count": 2,
   "id": "201efe93",
   "metadata": {},
   "outputs": [
    {
     "name": "stdout",
     "output_type": "stream",
     "text": [
      "Mira arriba! ¡Una luz brillante en el cielo!\n"
     ]
    }
   ],
   "source": [
    "# Agrega el código para crear una variable para un asteroide que viaja a 19 km/s\n",
    "\n",
    "asteroide = 25\n",
    "if asteroide > 20:\n",
    "    print('Mira arriba! ¡Una luz brillante en el cielo!')\n",
    "elif asteroide == 20:\n",
    "    print('Mira arriba! ¡Una luz brilante en el cielo!')\n",
    "else:\n",
    "    print('¡No hay nada que ver aqui!')"
   ]
  },
  {
   "cell_type": "code",
   "execution_count": 10,
   "id": "b839a019",
   "metadata": {},
   "outputs": [
    {
     "name": "stdout",
     "output_type": "stream",
     "text": [
      "Mira arriba! ¡Una luz brilante en el cielo!\n"
     ]
    }
   ],
   "source": [
    "# Agrega el código para crear nuevas variables para la velocidad y el tamaño del asteroide\n",
    "\n",
    "velocidad_asteroide = 30\n",
    "tamano_asteroide = 20\n",
    "if velocidad_asteroide > 25 and tamano_asteroide > 25:\n",
    "    print('¡Cuidado, Un asteroide muy grande se dirige hacia la Tierra!')\n",
    "elif velocidad_asteroide >= 20:\n",
    "    print('Mira arriba! ¡Una luz brilante en el cielo!')\n",
    "elif tamano_asteroide < 25:\n",
    "    print('No hay nada que ver aqui!')\n",
    "else:\n",
    "    print('No hay nada que ver aqui!')"
   ]
  },
  {
   "cell_type": "code",
   "execution_count": null,
   "id": "e811ca2c",
   "metadata": {},
   "outputs": [],
   "source": []
  }
 ],
 "metadata": {
  "kernelspec": {
   "display_name": "Python 3 (ipykernel)",
   "language": "python",
   "name": "python3"
  },
  "language_info": {
   "codemirror_mode": {
    "name": "ipython",
    "version": 3
   },
   "file_extension": ".py",
   "mimetype": "text/x-python",
   "name": "python",
   "nbconvert_exporter": "python",
   "pygments_lexer": "ipython3",
   "version": "3.9.7"
  }
 },
 "nbformat": 4,
 "nbformat_minor": 5
}
