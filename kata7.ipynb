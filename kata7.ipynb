{
 "cells": [
  {
   "cell_type": "code",
   "execution_count": 14,
   "id": "1d72aa0e",
   "metadata": {},
   "outputs": [],
   "source": [
    "# Declaramos 2 variables\n",
    "\n",
    "new_planet = ''\n",
    "planets = []"
   ]
  },
  {
   "cell_type": "code",
   "execution_count": 15,
   "id": "bb356698",
   "metadata": {},
   "outputs": [
    {
     "name": "stdout",
     "output_type": "stream",
     "text": [
      "Ingresa un nuevo planeta, para terminar usa hecho mercurio\n",
      "Ingresa un nuevo planeta, para terminar usa hecho venus\n",
      "Ingresa un nuevo planeta, para terminar usa hecho tierra\n",
      "Ingresa un nuevo planeta, para terminar usa hecho marte\n",
      "Ingresa un nuevo planeta, para terminar usa hecho jupiter\n",
      "Ingresa un nuevo planeta, para terminar usa hecho saturno\n",
      "Ingresa un nuevo planeta, para terminar usa hecho urano\n",
      "Ingresa un nuevo planeta, para terminar usa hecho neptuno\n",
      "Ingresa un nuevo planeta, para terminar usa hecho hecho\n"
     ]
    }
   ],
   "source": [
    "# Escribe el ciclo while solicitado\n",
    "\n",
    "while new_planet.lower() != 'hecho':\n",
    "    if new_planet:\n",
    "        planets.append(new_planet)\n",
    "    new_planet = input('Ingresa un nuevo planeta, para terminar usa hecho ')"
   ]
  },
  {
   "cell_type": "code",
   "execution_count": 20,
   "id": "97d5e7af",
   "metadata": {},
   "outputs": [
    {
     "name": "stdout",
     "output_type": "stream",
     "text": [
      "mercurio\n",
      "venus\n",
      "tierra\n",
      "marte\n",
      "jupiter\n",
      "saturno\n",
      "urano\n",
      "neptuno\n"
     ]
    }
   ],
   "source": [
    "# Escribe tu ciclo for para iterar en una lista de planetas\n",
    "\n",
    "for planet in planets:\n",
    "    print (planet)"
   ]
  },
  {
   "cell_type": "code",
   "execution_count": null,
   "id": "0ced6494",
   "metadata": {},
   "outputs": [],
   "source": []
  }
 ],
 "metadata": {
  "kernelspec": {
   "display_name": "Python 3 (ipykernel)",
   "language": "python",
   "name": "python3"
  },
  "language_info": {
   "codemirror_mode": {
    "name": "ipython",
    "version": 3
   },
   "file_extension": ".py",
   "mimetype": "text/x-python",
   "name": "python",
   "nbconvert_exporter": "python",
   "pygments_lexer": "ipython3",
   "version": "3.9.7"
  }
 },
 "nbformat": 4,
 "nbformat_minor": 5
}
