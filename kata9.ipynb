{
 "cells": [
  {
   "cell_type": "code",
   "execution_count": 10,
   "id": "c7c3bccf",
   "metadata": {},
   "outputs": [],
   "source": [
    "#parte 1\n",
    "# Función para leer 3 tanques de combustible y muestre el promedio\n",
    "\n",
    "def generate_report(main_tank, external_tank, hydrogen_tank):\n",
    "    total_average = (main_tank + external_tank + hydrogen_tank) / 3\n",
    "    return f\"\"\"Fuel Report:\n",
    "    Promedio total: {total_average}%\n",
    "    Tanque principal: {main_tank}%\n",
    "    Tanque externo: {external_tank}%\n",
    "    Tanque de hidrogeno: {hydrogen_tank}% \n",
    "    \"\"\""
   ]
  },
  {
   "cell_type": "code",
   "execution_count": 12,
   "id": "a9a22dde",
   "metadata": {},
   "outputs": [
    {
     "name": "stdout",
     "output_type": "stream",
     "text": [
      "Fuel Report:\n",
      "    Promedio total: 77.0%\n",
      "    Tanque principal: 85%\n",
      "    Tanque externo: 67%\n",
      "    Tanque de hidrogeno: 79% \n",
      "    \n"
     ]
    }
   ],
   "source": [
    "# Llamamos a la función que genera el reporte print(funcion(tanque1, tanque2, tanque3))\n",
    "print(generate_report(85, 67, 79))"
   ]
  },
  {
   "cell_type": "code",
   "execution_count": 13,
   "id": "b2d2c21d",
   "metadata": {},
   "outputs": [
    {
     "data": {
      "text/plain": [
       "77.0"
      ]
     },
     "execution_count": 13,
     "metadata": {},
     "output_type": "execute_result"
    }
   ],
   "source": [
    "# Función promedio \n",
    "def average(values):\n",
    "    total = sum(values)\n",
    "    number_of_items = len(values)\n",
    "    return total / number_of_items\n",
    "\n",
    "# Test the averaging function with a list of integers:\n",
    "average([85, 67, 79]) "
   ]
  },
  {
   "cell_type": "code",
   "execution_count": 15,
   "id": "0b8e8297",
   "metadata": {},
   "outputs": [
    {
     "name": "stdout",
     "output_type": "stream",
     "text": [
      "Fuel Report:\n",
      "    Promedio total: 76.0%\n",
      "    Tanque principal: 70%\n",
      "    Tanque externo: 59%\n",
      "    Tanque de hidrogeno: 99% \n",
      "    \n"
     ]
    }
   ],
   "source": [
    "# Actualiza la función\n",
    "def generate_report(main_tank, external_tank, hydrogen_tank):\n",
    "    return f\"\"\"Fuel Report:\n",
    "    Promedio total: {average([main_tank, external_tank, hydrogen_tank])}%\n",
    "    Tanque principal: {main_tank}%\n",
    "    Tanque externo: {external_tank}%\n",
    "    Tanque de hidrogeno: {hydrogen_tank}% \n",
    "    \"\"\"\n",
    "\n",
    "# con valores diferentes\n",
    "print(generate_report(70, 59, 99))"
   ]
  },
  {
   "cell_type": "code",
   "execution_count": 23,
   "id": "9113d3d1",
   "metadata": {},
   "outputs": [
    {
     "name": "stdout",
     "output_type": "stream",
     "text": [
      "\n",
      "    Mision hacia Marte\n",
      "    Tiempo total de viaje: 171 minutos\n",
      "    Cobustible total restante: 500000 galones\n",
      "    \n"
     ]
    }
   ],
   "source": [
    "#parte 2\n",
    "# Función con un informe preciso de la misión. Considera hora de prelanzamiento, tiempo de vuelo, destino, tanque externo y tanque interno\n",
    "\n",
    "def mission_report(pre_launch_time, flight_time, destination, external_tank, main_tank):\n",
    "    return f\"\"\"\n",
    "    Mision hacia {destination}\n",
    "    Tiempo total de viaje: {pre_launch_time + flight_time} minutos\n",
    "    Cobustible total restante: {external_tank + main_tank} galones\n",
    "    \"\"\"\n",
    "\n",
    "print(mission_report(20, 151, \"Marte\", 200000, 300000))"
   ]
  },
  {
   "cell_type": "code",
   "execution_count": 25,
   "id": "50bf3865",
   "metadata": {},
   "outputs": [
    {
     "name": "stdout",
     "output_type": "stream",
     "text": [
      "\n",
      "    Mision hacia Marte\n",
      "    Tiempo total de viaje: 115 minutos\n",
      "    Combustible total restante: 500000\n",
      "    \n"
     ]
    }
   ],
   "source": [
    "# Escribe tu nueva función de reporte considerando lo anterior\n",
    "\n",
    "def mission_report(destination, *minutes, **fuel_reservoirs):\n",
    "    return f\"\"\"\n",
    "    Mision hacia {destination}\n",
    "    Tiempo total de viaje: {sum(minutes)} minutos\n",
    "    Combustible total restante: {sum(fuel_reservoirs.values())}\n",
    "    \"\"\"\n",
    "\n",
    "print(mission_report(\"Marte\", 15, 20, 80, main=300000, external=200000))"
   ]
  },
  {
   "cell_type": "code",
   "execution_count": 31,
   "id": "89920500",
   "metadata": {},
   "outputs": [
    {
     "name": "stdout",
     "output_type": "stream",
     "text": [
      "\n",
      "    Mision hacia Marte\n",
      "    Tiempo total de viaje: 83 minutos\n",
      "    Combustible total restante: 500000\n",
      "    principal tanque --> 300000 galones restantes\n",
      "externo tanque --> 200000 galones restantes\n",
      "\n"
     ]
    }
   ],
   "source": [
    "# Escribe tu nueva función\n",
    "\n",
    "def mission_report(destination, *minutes, **fuel_reservoirs):\n",
    "    main_report = f\"\"\"\n",
    "    Mision hacia {destination}\n",
    "    Tiempo total de viaje: {sum(minutes)} minutos\n",
    "    Combustible total restante: {sum(fuel_reservoirs.values())}\n",
    "    \"\"\"\n",
    "    for tank_name, gallons in fuel_reservoirs.items():\n",
    "        main_report += f\"{tank_name} tanque --> {gallons} galones restantes\\n\"\n",
    "    return main_report\n",
    "\n",
    "print(mission_report(\"Marte\", 10, 13, 60, principal=300000, externo=200000))"
   ]
  },
  {
   "cell_type": "code",
   "execution_count": null,
   "id": "4dceed54",
   "metadata": {},
   "outputs": [],
   "source": []
  }
 ],
 "metadata": {
  "kernelspec": {
   "display_name": "Python 3 (ipykernel)",
   "language": "python",
   "name": "python3"
  },
  "language_info": {
   "codemirror_mode": {
    "name": "ipython",
    "version": 3
   },
   "file_extension": ".py",
   "mimetype": "text/x-python",
   "name": "python",
   "nbconvert_exporter": "python",
   "pygments_lexer": "ipython3",
   "version": "3.9.7"
  }
 },
 "nbformat": 4,
 "nbformat_minor": 5
}
