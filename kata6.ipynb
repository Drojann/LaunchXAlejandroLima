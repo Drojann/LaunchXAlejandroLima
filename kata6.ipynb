{
 "cells": [
  {
   "cell_type": "code",
   "execution_count": 1,
   "id": "7f8a8cb8",
   "metadata": {},
   "outputs": [
    {
     "name": "stdout",
     "output_type": "stream",
     "text": [
      "Hay 8 planetas en el sistema\n"
     ]
    }
   ],
   "source": [
    "# Lista de planetas\n",
    "planets = ['Mercurio', 'Venus', 'Tierra', 'Marte', 'Jupiter', 'Saturno', 'Urano', 'Neptuno']\n",
    "print('Hay', len(planets), 'planetas en el sistema')"
   ]
  },
  {
   "cell_type": "code",
   "execution_count": 7,
   "id": "f55d1211",
   "metadata": {},
   "outputs": [
    {
     "name": "stdout",
     "output_type": "stream",
     "text": [
      "Hay 4 planetas enanos en el sistema\n"
     ]
    }
   ],
   "source": [
    "# Lista de planetoides\n",
    "planetoids = ['Ceres', 'Pluton', 'Haumea', 'Makemake']\n",
    "print('Hay', len(planetoids), 'planetas enanos en el sistema')"
   ]
  },
  {
   "cell_type": "code",
   "execution_count": 8,
   "id": "2e654b81",
   "metadata": {},
   "outputs": [
    {
     "name": "stdout",
     "output_type": "stream",
     "text": [
      "Eris Es el ultimo planeta enano\n"
     ]
    }
   ],
   "source": [
    "# Solicitamos el nombre de un planeta\n",
    "# Agregamos a plutón y mostramos el último elemento\n",
    "\n",
    "planetoids.append('Eris')\n",
    "\n",
    "print(planetoids[-1], 'Es el ultimo planeta enano')"
   ]
  },
  {
   "cell_type": "code",
   "execution_count": 9,
   "id": "64d3c707",
   "metadata": {},
   "outputs": [],
   "source": [
    "# Lista de planetas\n",
    "\n",
    "planets = ['Mercurio', 'Venus', 'Tierra', 'Marte', 'Jupiter', 'Saturno', 'Urano', 'Neptuno']"
   ]
  },
  {
   "cell_type": "code",
   "execution_count": 10,
   "id": "5d537148",
   "metadata": {},
   "outputs": [
    {
     "name": "stdout",
     "output_type": "stream",
     "text": [
      "Ingrese el nombre del planeta a abuscar (empezando con mayuscula )Marte\n"
     ]
    }
   ],
   "source": [
    "# Solicitamos el nombre de un planeta \n",
    "user_planet = input('Ingrese el nombre del planeta a abuscar (empezando con mayuscula )')"
   ]
  },
  {
   "cell_type": "code",
   "execution_count": 11,
   "id": "4cb8939f",
   "metadata": {},
   "outputs": [],
   "source": [
    "# Busca el planeta en la lista\n",
    "\n",
    "planet_index = planets.index(user_planet)"
   ]
  },
  {
   "cell_type": "code",
   "execution_count": 12,
   "id": "8ba5b116",
   "metadata": {},
   "outputs": [
    {
     "name": "stdout",
     "output_type": "stream",
     "text": [
      "Estos planetas estan mas cerca del sol que Marte\n",
      "['Mercurio', 'Venus', 'Tierra']\n"
     ]
    }
   ],
   "source": [
    "# Muestra los planetas más cercanos al sol\n",
    "\n",
    "print('Estos planetas estan mas cerca del sol que ' + user_planet)\n",
    "print(planets[0:planet_index])"
   ]
  },
  {
   "cell_type": "code",
   "execution_count": 13,
   "id": "650027b1",
   "metadata": {},
   "outputs": [
    {
     "name": "stdout",
     "output_type": "stream",
     "text": [
      "Estos planetas estan mas lejos que Marte\n",
      "['Jupiter', 'Saturno', 'Urano', 'Neptuno']\n"
     ]
    }
   ],
   "source": [
    "# Muestra los planetas más lejanos al sol\n",
    "\n",
    "print('Estos planetas estan mas lejos que ' + user_planet)\n",
    "print(planets[planet_index + 1:])"
   ]
  },
  {
   "cell_type": "code",
   "execution_count": null,
   "id": "28f9295e",
   "metadata": {},
   "outputs": [],
   "source": []
  }
 ],
 "metadata": {
  "kernelspec": {
   "display_name": "Python 3 (ipykernel)",
   "language": "python",
   "name": "python3"
  },
  "language_info": {
   "codemirror_mode": {
    "name": "ipython",
    "version": 3
   },
   "file_extension": ".py",
   "mimetype": "text/x-python",
   "name": "python",
   "nbconvert_exporter": "python",
   "pygments_lexer": "ipython3",
   "version": "3.9.7"
  }
 },
 "nbformat": 4,
 "nbformat_minor": 5
}
