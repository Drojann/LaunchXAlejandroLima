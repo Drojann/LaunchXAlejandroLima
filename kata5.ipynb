{
 "cells": [
  {
   "cell_type": "code",
   "execution_count": 20,
   "id": "e1dee51e",
   "metadata": {},
   "outputs": [],
   "source": [
    "# Crear variables para almacenar las dos distancias\n",
    "\n",
    "first_planet = 123987456\n",
    "second_planet = 321456987"
   ]
  },
  {
   "cell_type": "code",
   "execution_count": 21,
   "id": "3725081a",
   "metadata": {},
   "outputs": [
    {
     "name": "stdout",
     "output_type": "stream",
     "text": [
      "197469531.00 km\n",
      "122628578.75 mi\n"
     ]
    }
   ],
   "source": [
    "# Calcular la distancia entre planetas\n",
    "from units import unit\n",
    "km = unit('km')\n",
    "mi = unit('mi')\n",
    "\n",
    "distance_km = second_planet - first_planet\n",
    "print (km(distance_km))\n",
    "\n",
    "distance_mi = distance_km * 0.621\n",
    "print(mi(distance_mi))"
   ]
  },
  {
   "cell_type": "code",
   "execution_count": 22,
   "id": "bb039aeb",
   "metadata": {},
   "outputs": [
    {
     "name": "stdout",
     "output_type": "stream",
     "text": [
      "Introduzca la distancia del sol para el primer planeta en KM 25000\n",
      "Introduzca la distancia desde el sol para el segundo planeta en KM 77000\n"
     ]
    }
   ],
   "source": [
    "# Almacenar las entradas del usuario\n",
    "first_planet = input('Introduzca la distancia del sol para el primer planeta en KM ')\n",
    "second_planet = input('Introduzca la distancia desde el sol para el segundo planeta en KM ')"
   ]
  },
  {
   "cell_type": "code",
   "execution_count": 23,
   "id": "f84a0c53",
   "metadata": {},
   "outputs": [],
   "source": [
    "# Convierte las cadenas de ambos planetas a números enteros\n",
    "first_planet = int(first_planet)\n",
    "second_planet = int(second_planet)"
   ]
  },
  {
   "cell_type": "code",
   "execution_count": 24,
   "id": "0120de32",
   "metadata": {},
   "outputs": [
    {
     "name": "stdout",
     "output_type": "stream",
     "text": [
      "52000.00 km\n",
      "32292.00 mi\n"
     ]
    }
   ],
   "source": [
    "# Realizar el cálculo y determinar el valor absoluto\n",
    "distance_km = second_planet - first_planet\n",
    "print(km(distance_km))\n",
    "\n",
    "# Convertir de KM a Millas\n",
    "distance_mi = distance_km * 0.621\n",
    "print(mi(abs(distance_mi)))"
   ]
  },
  {
   "cell_type": "code",
   "execution_count": null,
   "id": "81b4ca5f",
   "metadata": {},
   "outputs": [],
   "source": []
  }
 ],
 "metadata": {
  "kernelspec": {
   "display_name": "Python 3 (ipykernel)",
   "language": "python",
   "name": "python3"
  },
  "language_info": {
   "codemirror_mode": {
    "name": "ipython",
    "version": 3
   },
   "file_extension": ".py",
   "mimetype": "text/x-python",
   "name": "python",
   "nbconvert_exporter": "python",
   "pygments_lexer": "ipython3",
   "version": "3.9.7"
  }
 },
 "nbformat": 4,
 "nbformat_minor": 5
}
